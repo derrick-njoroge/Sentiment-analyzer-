{
 "cells": [
  {
   "cell_type": "code",
   "execution_count": 10,
   "id": "3b7d0d19",
   "metadata": {},
   "outputs": [
    {
     "name": "stderr",
     "output_type": "stream",
     "text": [
      "[nltk_data] Downloading package stopwords to C:\\Users\\Hp 840\n",
      "[nltk_data]     G5\\AppData\\Roaming\\nltk_data...\n",
      "[nltk_data]   Package stopwords is already up-to-date!\n"
     ]
    },
    {
     "name": "stdout",
     "output_type": "stream",
     "text": [
      "Accuracy: 0.5970 | Precision: 0.5895 | Recall: 0.5970\n",
      "\n"
     ]
    }
   ],
   "source": [
    "import pandas as pd\n",
    "import numpy as np\n",
    "import re\n",
    "import nltk\n",
    "from nltk.corpus import stopwords\n",
    "from nltk.stem.porter import PorterStemmer\n",
    "from nltk.stem import WordNetLemmatizer\n",
    "from sklearn.model_selection import train_test_split\n",
    "from sklearn.feature_extraction.text import CountVectorizer, TfidfVectorizer\n",
    "from sklearn.naive_bayes import MultinomialNB\n",
    "from sklearn.svm import LinearSVC\n",
    "from sklearn.linear_model import LogisticRegression\n",
    "from sklearn.metrics import accuracy_score, precision_score, recall_score\n",
    "from textblob import TextBlob\n",
    "\n",
    "# Load the dataset into a pandas DataFrame\n",
    "data = pd.read_csv('Amazonin1.csv')\n",
    "\n",
    "# Remove unnecessary columns and missing values\n",
    "data = data[['Tweet', 'Likes', 'Retweets', 'Language']]\n",
    "\n",
    "# Preprocess the text data\n",
    "nltk.download('stopwords')\n",
    "stopwords = stopwords.words('english')\n",
    "stemmer = PorterStemmer()\n",
    "lemmatizer = WordNetLemmatizer()\n",
    "\n",
    "def preprocess_text(text):\n",
    "    text = text.lower()\n",
    "    text = re.sub('[^a-zA-Z]', ' ', text)\n",
    "    text = text.split()\n",
    "    text = [word for word in text if word not in stopwords]\n",
    "    text = [lemmatizer.lemmatize(word) for word in text]\n",
    "    text = ' '.join(text)\n",
    "    return text\n",
    "\n",
    "data['Tweet'] = data['Tweet'].apply(preprocess_text)\n",
    "\n",
    "# Define the function to get the sentiment of a tweet\n",
    "def get_sentiment(tweet):\n",
    "    analysis = TextBlob(tweet)\n",
    "    if analysis.sentiment.polarity > 0:\n",
    "        return 'positive'\n",
    "    elif analysis.sentiment.polarity == 0:\n",
    "        return 'neutral'\n",
    "    else:\n",
    "        return 'negative'\n",
    "\n",
    "data['Sentiment'] = data['Tweet'].apply(get_sentiment)\n",
    "\n",
    "\n",
    "# Split the dataset into training and testing sets\n",
    "X_train, X_test, y_train, y_test = train_test_split(data['Tweet'], data['Sentiment'], test_size=0.2, random_state=42)\n",
    "\n",
    "# Convert the raw tweets to bag-of-words vectors\n",
    "vectorizer = CountVectorizer(preprocessor=lambda x: x, tokenizer=lambda x: x)\n",
    "X_train_counts = vectorizer.fit_transform(X_train)\n",
    "X_test_counts = vectorizer.transform(X_test)\n",
    "\n",
    "# Train a Naive Bayes classifier on the training data\n",
    "model = MultinomialNB()\n",
    "model.fit(X_train_counts, y_train)\n",
    "\n",
    "# Evaluate the model on the testing data\n",
    "y_pred = model.predict(X_test_counts)\n",
    "acc = accuracy_score(y_test, y_pred)\n",
    "prec = precision_score(y_test, y_pred, average='weighted')\n",
    "recall = recall_score(y_test, y_pred, average='weighted')\n",
    "print(f'Accuracy: {acc:.4f} | Precision: {prec:.4f} | Recall: {recall:.4f}\\n')\n",
    "\n",
    "\n"
   ]
  },
  {
   "cell_type": "code",
   "execution_count": null,
   "id": "7b9b429f",
   "metadata": {},
   "outputs": [],
   "source": []
  }
 ],
 "metadata": {
  "kernelspec": {
   "display_name": "Python 3 (ipykernel)",
   "language": "python",
   "name": "python3"
  },
  "language_info": {
   "codemirror_mode": {
    "name": "ipython",
    "version": 3
   },
   "file_extension": ".py",
   "mimetype": "text/x-python",
   "name": "python",
   "nbconvert_exporter": "python",
   "pygments_lexer": "ipython3",
   "version": "3.9.13"
  }
 },
 "nbformat": 4,
 "nbformat_minor": 5
}
